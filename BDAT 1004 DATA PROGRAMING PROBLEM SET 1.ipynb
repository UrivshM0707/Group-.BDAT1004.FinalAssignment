{
 "cells": [
  {
   "cell_type": "markdown",
   "id": "a2f0eedb",
   "metadata": {},
   "source": [
    "# Question 1"
   ]
  },
  {
   "cell_type": "code",
   "execution_count": 49,
   "id": "5d0b7fc9",
   "metadata": {},
   "outputs": [
    {
     "name": "stdout",
     "output_type": "stream",
     "text": [
      "<class 'int'>\n",
      "<class 'float'>\n",
      "<class 'bool'>\n",
      "<class 'str'>\n",
      "<class 'int'>\n",
      "<class 'str'>\n",
      "<class 'str'>\n",
      "<class 'float'>\n",
      "<class 'int'>\n",
      "<class 'set'>\n",
      "<class 'bool'>\n",
      "<class 'float'>\n"
     ]
    }
   ],
   "source": [
    "print(type(5))\n",
    "print(type(5.0))\n",
    "print(type(5 > 1))\n",
    "print(type('5'))\n",
    "print(type(5 * 2))\n",
    "print(type('5' * 2))\n",
    "print(type('5' + '2'))\n",
    "print(type(5 / 2))\n",
    "print(type(5 % 2))\n",
    "print(type({5, 2, 1}))\n",
    "print(type(5 == 3))\n",
    "print(type(3.14))"
   ]
  },
  {
   "cell_type": "markdown",
   "id": "e393b382",
   "metadata": {},
   "source": [
    "# Question 2"
   ]
  },
  {
   "cell_type": "code",
   "execution_count": 53,
   "id": "3085ccb9",
   "metadata": {},
   "outputs": [
    {
     "name": "stdout",
     "output_type": "stream",
     "text": [
      "34\n",
      "\n",
      "true\n",
      "\n",
      "Supercalifragilisticexpialidocious and Bababadalgharaghtakamminarronnkonn are of the same length\n",
      "\n",
      "Bartok comes first in dictionry\n",
      "Buxtehude Comes last in dictionary\n",
      "\n"
     ]
    }
   ],
   "source": [
    "a=len('Supercalifragilisticexpialidocious')\n",
    "b=len('Honorificabilitudinitatibus')\n",
    "c=len('Bababadalgharaghtakamminarronnkonn')\n",
    "\n",
    "#To print the length of Supercalifragilisticexpialidocious\n",
    "print(a)\n",
    "\n",
    "#To check Supercalifragilisticexpialidocious contains ice\n",
    "D=\"Supercalifragilisticexpialidocious\"\n",
    "if \"ice\" in D:\n",
    "    print('\\ntrue')\n",
    "else:\n",
    "    print('\\nflase')\n",
    "    \n",
    "\n",
    "#To check which word is long\n",
    "if a>b:\n",
    "    if a>c:\n",
    "        print('\\nSupercalifragilisticexpialidocious is long word\\n')\n",
    "    else:\n",
    "        print('\\nSupercalifragilisticexpialidocious and Bababadalgharaghtakamminarronnkonn are of the same length\\n')\n",
    "elif b>c:\n",
    "    print('\\nHonorificabilitudinitatibus is long word\\n')\n",
    "else:\n",
    "    print('\\nBababadalgharaghtakamminarronnkonn is long word\\n')\n",
    "    \n",
    "#Which composer comes first in the dictionary\n",
    "dictionary=['Berlioz', 'Borodin', 'Brian','Bartok', 'Bellini', 'Buxtehude', 'Bernstein']\n",
    "dictionary.sort()\n",
    "print(dictionary[0] +\" comes first in dictionry\")\n",
    "print(dictionary[6] +\" Comes last in dictionary\\n\")"
   ]
  },
  {
   "cell_type": "markdown",
   "id": "3bf7594a",
   "metadata": {},
   "source": [
    "# Question 3"
   ]
  },
  {
   "cell_type": "code",
   "execution_count": 37,
   "id": "280cdda7",
   "metadata": {},
   "outputs": [
    {
     "name": "stdout",
     "output_type": "stream",
     "text": [
      "Enter first side: 4\n",
      "Enter Second side: 5\n",
      "Enter Third side: 6\n",
      "Area of Triangle is: 9.921567416492215\n"
     ]
    }
   ],
   "source": [
    "import math #import math library\n",
    "\n",
    "a=float(input('Enter first side: '))  #first side\n",
    "b=float(input('Enter Second side: '))  #second side\n",
    "c=float(input('Enter Third side: '))  #Third side\n",
    "\n",
    "s = (a+b+c)/2\n",
    "print(\"Area of Triangle is:\",math.sqrt(s*(s - a)*(s -b)*(s -c))) #Area of Triangle"
   ]
  },
  {
   "cell_type": "markdown",
   "id": "46c89369",
   "metadata": {},
   "source": [
    "# Question 4"
   ]
  },
  {
   "cell_type": "code",
   "execution_count": 13,
   "id": "d2ae4f54",
   "metadata": {},
   "outputs": [
    {
     "name": "stdout",
     "output_type": "stream",
     "text": [
      "Enter number of elements : 5\n",
      "34\n",
      "99\n",
      "12\n",
      "34\n",
      "77\n",
      "\n",
      "Entered numbers are: [34, 99, 12, 34, 77]\n",
      "\n",
      "Even numbers are: [34, 12, 34]\n",
      "\n",
      "Odd numbers are: [99, 77]\n"
     ]
    }
   ],
   "source": [
    "number= [] #Array to take number of elements\n",
    "even=[] #Array to get even numbers\n",
    "odd=[] #Array to get odd numbers\n",
    "  \n",
    "# number of elements as input\n",
    "n = int(input(\"Enter number of elements :\"))\n",
    "  \n",
    "# Get number of inputs till the range.\n",
    "for i in range(0, n):\n",
    "    a= int(input())\n",
    "  \n",
    "    number.append(a) # adding the element to number.\n",
    "      \n",
    "print(\"\\nEntered numbers are:\", number) #Entered elements.\n",
    "\n",
    "for i in number:\n",
    "    if i%2 == 0:\n",
    "        even.append(i);\n",
    "    else:\n",
    "        odd.append(i);\n",
    "print(\"\\nEven numbers are:\",even) #Even Numbers\n",
    "print(\"\\nOdd numbers are:\",odd) #Odd numbers"
   ]
  },
  {
   "cell_type": "markdown",
   "id": "020c975c",
   "metadata": {},
   "source": [
    "# Question 5"
   ]
  },
  {
   "cell_type": "code",
   "execution_count": 35,
   "id": "d70f9577",
   "metadata": {},
   "outputs": [
    {
     "name": "stdout",
     "output_type": "stream",
     "text": [
      "True\n",
      "False\n",
      "False\n",
      "given points are not making rectangle\n"
     ]
    }
   ],
   "source": [
    "def inside(x, y, x1, y1, x2, y2):\n",
    "    if (x >= x1 and x <= x2 and y >= y1 and y <= y2):\n",
    "        print(\"True\")\n",
    "    else:\n",
    "        print(\"False\") \n",
    "inside(1,1,0,0,2,3)\n",
    "inside(-1,-1,0,0,2,3)\n",
    "\n",
    "if ((inside(1,1,0.3,0.5,1.1,0.7,)) and (inside(1,1,0.5,0.2,1.1,2))):\n",
    "    print(\"given points are making rectangle\")\n",
    "else:\n",
    "    print(\"given points are not making rectangle\")\n",
    " \n"
   ]
  },
  {
   "cell_type": "markdown",
   "id": "0beaab45",
   "metadata": {},
   "source": [
    "# Question 6"
   ]
  },
  {
   "cell_type": "code",
   "execution_count": 30,
   "id": "58dfcce8",
   "metadata": {},
   "outputs": [
    {
     "name": "stdout",
     "output_type": "stream",
     "text": [
      "Enter a word which start comsonant:happy\n",
      "Enter a word which start Vowel:umbrella\n",
      "appyhay\n",
      "umbrellaway\n"
     ]
    }
   ],
   "source": [
    "def pig(word):\n",
    "    \n",
    "    if word[0] in 'aeiou': #Condition for Words start with Vowel\n",
    "        print(word+'way')\n",
    "        \n",
    "    else: \n",
    "        print(word[1:]+word[0]+'ay') #Condition for word start with consonant\n",
    "        \n",
    "        \n",
    "user_input1=input(\"Enter a word which start comsonant:\")\n",
    "user_input2=input(\"Enter a word which start Vowel:\")\n",
    "\n",
    "pig(user_input1) \n",
    "pig(user_input2) \n",
    "        "
   ]
  },
  {
   "cell_type": "markdown",
   "id": "e1a0a360",
   "metadata": {},
   "source": [
    "# Question 7 "
   ]
  },
  {
   "cell_type": "code",
   "execution_count": 6,
   "id": "200c730e",
   "metadata": {},
   "outputs": [
    {
     "name": "stdout",
     "output_type": "stream",
     "text": [
      "AB AB B O A A AB O AB A O O A A A O O O AB O A A A A A AB AB A AB O AB O A O O O AB O AB AB AB A A O \n",
      "there are 13 patients of blood type AB\n",
      "there are 15 patients of blood type A\n",
      "there are 1 patients of blood type B\n",
      "there are 15 patients of blood type O\n",
      "there are 0 patients of blood type OO\n"
     ]
    }
   ],
   "source": [
    "a=open(\"bloodtype.txt\")\n",
    "data=a.read()\n",
    "print(data)\n",
    "\n",
    "bloodlist=data.split()\n",
    "\n",
    "AB=0\n",
    "B=0\n",
    "A=0\n",
    "O=0\n",
    "OO=0\n",
    "\n",
    "for i in range(len(bloodlist)):\n",
    "    if(bloodlist[i] == 'AB'):\n",
    "        AB= AB+1\n",
    "    elif(bloodlist[i] == 'B'):\n",
    "        B= B+1\n",
    "    elif(bloodlist[i]=='A'):\n",
    "        A= A+1\n",
    "    elif(bloodlist[i]=='O'):\n",
    "        O= O+1\n",
    "    elif(bloodlist[i]=='OO'):\n",
    "        OO=OO+1\n",
    "        \n",
    "print(\"there are {} patients of blood type AB\".format(AB))\n",
    "print(\"there are {} patients of blood type A\".format(A))\n",
    "print(\"there are {} patients of blood type B\".format(B))\n",
    "print(\"there are {} patients of blood type O\".format(O))\n",
    "print(\"there are {} patients of blood type OO\".format(OO))\n",
    "\n",
    "a.close()"
   ]
  },
  {
   "cell_type": "markdown",
   "id": "b48f9764",
   "metadata": {},
   "source": [
    "# Question 8"
   ]
  },
  {
   "cell_type": "code",
   "execution_count": 26,
   "id": "574e41fe",
   "metadata": {},
   "outputs": [
    {
     "name": "stdout",
     "output_type": "stream",
     "text": [
      "Enter the amount: 100\n",
      "Enter the currency: INR\n",
      "100.00 INR is equal to 1.78 USD\n"
     ]
    }
   ],
   "source": [
    "def currency_converter(amount, currency):\n",
    "  conversion_rates = {'AUD': 1.0345157,'CHF':1.0237414,'CNY':0.1550176,'DKK':0.1651442,\n",
    "               'EUR':1.2296544,'GBP':1.5550989,'HKD':0.1270207, 'INR':0.0177643,\n",
    "               'JPY': 0.01241401,'MXN': 0.0751848,'MYR': 0.3145411,'NOK':0.1677063,\n",
    "               'NZD':0.8003591,'PHP':0.0233234,'SEK':0.148269,'SGD':0.788871,'THB':0.0313789}   #Dictionary of currency rates.\n",
    "  \n",
    "  conversion_rate = conversion_rates.get(currency, 0)\n",
    "  if conversion_rate == 0:\n",
    "    return None\n",
    "  \n",
    "  return amount * conversion_rate\n",
    "\n",
    "amount = float(input(\"Enter the amount: \"))\n",
    "currency = input(\"Enter the currency: \")\n",
    "\n",
    "usd = currency_converter(amount, currency)\n",
    "if usd is None:\n",
    "  print(\"Invalid currency\")\n",
    "else:\n",
    "  print(\"{0:.2f}\".format(amount), currency, \"is equal to\", \"{0:.2f}\".format(usd), \"USD\")\n",
    "\n",
    "\n"
   ]
  },
  {
   "cell_type": "markdown",
   "id": "f14a6bef",
   "metadata": {},
   "source": [
    "# Question 9\n",
    "\n",
    "\n",
    "\n",
    "### (1)Trying to add incompatible variables, as inadding 6 + ‘a’\n",
    "\n",
    "Error: unsupported operand type(s) for +: 'int' and 'str'\n",
    "\n",
    "6 is integer while A is charateer, so 6 cannot add the valuye of A.\n",
    "\n",
    "\n",
    "### (2)Referring to the 12th item of a list that has only 10 items\n",
    "\n",
    "Error: list index out of range\n",
    "\n",
    "As list consist only 10 items, so it cannot access 12th item of the list.\n",
    "\n",
    "### (3) Using a value that is out of range for a function’sinput, such as calling math.sqrt(-1.0)\n",
    "\n",
    "Error: math domain error\n",
    "\n",
    "### (4) Using an undeclared variable, such as print(x)when x has not been defined \n",
    "\n",
    "Error: name 'x' is not defined\n",
    "\n",
    "### (5) Trying to open a file that does not exist, such asmistyping the file name or looking in the wrong directory.\n",
    "\n",
    "Error: No such file or directory: 'python.txt'"
   ]
  },
  {
   "cell_type": "markdown",
   "id": "0045aaa7",
   "metadata": {},
   "source": [
    "# Question 10"
   ]
  },
  {
   "cell_type": "code",
   "execution_count": 34,
   "id": "6e7f68ff",
   "metadata": {},
   "outputs": [
    {
     "name": "stdout",
     "output_type": "stream",
     "text": [
      "enter the string here: python\n",
      "dict_values([0, 0, 0, 0, 0, 0, 0, 1, 0, 0, 0, 0, 0, 1, 1, 1, 0, 0, 0, 1, 0, 0, 0, 0, 1, 0])\n"
     ]
    }
   ],
   "source": [
    " def frequencies():\n",
    "    letters = 'abcdefghijklmnopqrstuvwxyz'\n",
    "    word = input(\"enter the string here: \")\n",
    "    word = word.lower()\n",
    "    alphabets = { \"a\":0,\"b\":0,\"c\":0,\"d\":0,\"e\":0,\"f\":0,\"g\":0,\"h\":0,\"i\":0,\"j\":0,\"k\":0,\"l\":0,\"m\":0,\"n\":0,\"o\":0,\"p\":0,\"q\":0,\"r\":0,\"s\":0,\"t\":0,\"u\":0,\"v\":0,\"w\":0,\"x\":0,\"y\":0,\"z\":0}\n",
    "    for k in range(len(word)):\n",
    "        \n",
    "        if(word[k] in letters):\n",
    "            alphabets[word[k]] += 1\n",
    "        else:\n",
    "            continue\n",
    "    print(alphabets.values())\n",
    "    \n",
    "frequencies()"
   ]
  }
 ],
 "metadata": {
  "kernelspec": {
   "display_name": "Python 3 (ipykernel)",
   "language": "python",
   "name": "python3"
  },
  "language_info": {
   "codemirror_mode": {
    "name": "ipython",
    "version": 3
   },
   "file_extension": ".py",
   "mimetype": "text/x-python",
   "name": "python",
   "nbconvert_exporter": "python",
   "pygments_lexer": "ipython3",
   "version": "3.9.13"
  }
 },
 "nbformat": 4,
 "nbformat_minor": 5
}
